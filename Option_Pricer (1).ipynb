{
  "cells": [
    {
      "cell_type": "code",
      "execution_count": 3,
      "metadata": {
        "id": "KPcahWrVDSyh",
        "colab": {
          "base_uri": "https://localhost:8080/"
        },
        "outputId": "a446db19-e0c8-4923-cb45-af048d1f9a19"
      },
      "outputs": [
        {
          "output_type": "stream",
          "name": "stdout",
          "text": [
            "\u001b[K     |████████████████████████████████| 9.2 MB 5.7 MB/s \n",
            "\u001b[K     |████████████████████████████████| 164 kB 46.6 MB/s \n",
            "\u001b[K     |████████████████████████████████| 111 kB 51.3 MB/s \n",
            "\u001b[K     |████████████████████████████████| 76 kB 4.3 MB/s \n",
            "\u001b[K     |████████████████████████████████| 4.3 MB 44.6 MB/s \n",
            "\u001b[K     |████████████████████████████████| 180 kB 62.8 MB/s \n",
            "\u001b[K     |████████████████████████████████| 63 kB 1.5 MB/s \n",
            "\u001b[K     |████████████████████████████████| 126 kB 38.4 MB/s \n",
            "\u001b[K     |████████████████████████████████| 791 kB 50.4 MB/s \n",
            "\u001b[K     |████████████████████████████████| 374 kB 50.3 MB/s \n",
            "\u001b[?25h  Building wheel for blinker (setup.py) ... \u001b[?25l\u001b[?25hdone\n",
            "\u001b[31mERROR: pip's dependency resolver does not currently take into account all the packages that are installed. This behaviour is the source of the following dependency conflicts.\n",
            "jupyter-console 5.2.0 requires prompt-toolkit<2.0.0,>=1.0.0, but you have prompt-toolkit 3.0.24 which is incompatible.\n",
            "google-colab 1.0.0 requires ipykernel~=4.10, but you have ipykernel 6.6.0 which is incompatible.\n",
            "google-colab 1.0.0 requires ipython~=5.5.0, but you have ipython 7.30.1 which is incompatible.\u001b[0m\n"
          ]
        }
      ],
      "source": [
        "! pip install streamlit -q\n",
        "\n"
      ]
    },
    {
      "cell_type": "code",
      "execution_count": 4,
      "metadata": {
        "colab": {
          "base_uri": "https://localhost:8080/"
        },
        "id": "A9LnEwDmC6pE",
        "outputId": "213d0435-fd83-4a6c-9944-bc73795afbb8"
      },
      "outputs": [
        {
          "output_type": "stream",
          "name": "stdout",
          "text": [
            "Overwriting option_pricer.py\n"
          ]
        }
      ],
      "source": [
        "%%writefile option_pricer.py\n",
        "\n",
        "import pandas as pd\n",
        "import streamlit as st\n",
        "import time \n",
        "import numpy as np\n",
        "import requests\n",
        "\n",
        "from math import log, sqrt, pi, exp\n",
        "from scipy.stats import norm\n",
        "from datetime import datetime, date, timedelta\n",
        "from pandas import DataFrame\n",
        "\n",
        "\n",
        "\n",
        "st.write(\"\"\"\n",
        "         \n",
        "# Option Pricer\n",
        "\n",
        "Enter the required fields\n",
        "\n",
        "\"\"\")\n",
        "\n",
        "def d1(S,K,T,r,sigma):\n",
        "    return(log(S/K)+(r+sigma**2/2.)*T)/(sigma*sqrt(T))\n",
        "def d2(S,K,T,r,sigma):\n",
        "    return d1(S,K,T,r,sigma)-sigma*sqrt(T)\n",
        "\n",
        "def bs_call(S,K,T,r,sigma):\n",
        "    return S*norm.cdf(d1(S,K,T,r,sigma))-K*exp(-r*T)*norm.cdf(d2(S,K,T,r,sigma))\n",
        "  \n",
        "def bs_put(S,K,T,r,sigma):\n",
        "    return K*exp(-r*T)-S+bs_call(S,K,T,r,sigma)\n",
        "\n",
        "asset = user_input = st.text_input(\"Asset\")\n",
        "\n",
        "\n",
        "\n",
        "\n",
        "def get_spot(asset):  \n",
        "  \n",
        "  url = \"https://alpha-vantage.p.rapidapi.com/query\"\n",
        "\n",
        "  querystring = {\"from_currency\":asset,\"function\":\"CURRENCY_EXCHANGE_RATE\",\"to_currency\":\"USD\"}\n",
        "\n",
        "  headers = {\n",
        "        'x-rapidapi-host': \"alpha-vantage.p.rapidapi.com\",\n",
        "        'x-rapidapi-key': \"296091f1a0msh573dbf3b0f29838p1b1343jsn448791d5004f\"\n",
        "        }\n",
        "\n",
        "  response = requests.request(\"GET\", url, headers=headers, params=querystring)\n",
        "\n",
        "  df = pd.DataFrame(response.json()).T\n",
        "\n",
        "  return pd.to_numeric(df.iloc[0, 4])\n",
        "\n",
        "if asset:\n",
        "  try:\n",
        "    price = get_spot(asset) \n",
        "  except:\n",
        "    print('Error getting spot price please enter manually')\n",
        "    price = float(st.number_input(\"Spot Price\"))\n",
        "\n",
        "  st.write('Spot price of {} is {}'.format(asset, price))\n",
        "\n",
        "  call_strikes = [price*1.05, price*1.1, price*1.15, price*1.2, price*1.25]\n",
        "\n",
        "  put_strikes = [price*.95, price*0.9, price*0.85, price*0.8, price*0.75]\n",
        "\n",
        "  days_to_expiry = st.number_input(\"Days to Expiry\", value=7)\n",
        "\n",
        "  hour_of_expiry_utc = st.number_input(\"UTC Hour of Expiry\", value=15)\n",
        "\n",
        "  forward_yield = st.number_input(\"Forward Yield - e.g. for 5% input 5\", 5)/100\n",
        "\n",
        "  bid_vol = st.number_input(\"Bid IV - e.g. if 80% input 80\", value=70)/100\n",
        "\n",
        "  offer_vol = st.number_input(\"Offer IV - e.g. if 80% input 80\", value=70)/100\n",
        "\n",
        "  spread = st.number_input(\"Spread each side\", value=0.03)\n",
        "\n",
        "  now = datetime.now()\n",
        "\n",
        "  expiry = now+timedelta(days=days_to_expiry)\n",
        "\n",
        "  expiry = expiry.replace(hour=hour_of_expiry_utc, minute=00, second=00)\n",
        "\n",
        "  fraction_of_year = (expiry-now).total_seconds()/60/60/24/365\n",
        "\n",
        "  forward_price = price*fraction_of_year*forward_yield\n",
        "\n",
        "  custom_expiry = st.date_input(\"Custom Expiry Date - N.B. Do NOT need both this and Expiry days, BUT you do need to make sure the UTC hour of expiry is correct\", (now-timedelta(days=1)))\n",
        "\n",
        "  custom_strike = st.number_input(\"Custom Strike\")\n",
        "\n",
        "  if st.button('Click when all fields correct.  Program will compute 95%-75% Puts and 105%-125% Calls'):\n",
        "\n",
        "    if custom_expiry > now.date():\n",
        "      expiry = datetime(custom_expiry.year, custom_expiry.month, custom_expiry.day, hour_of_expiry_utc)\n",
        "      fraction_of_year = (expiry-now).total_seconds()/60/60/24/365\n",
        "\n",
        "    if custom_strike:\n",
        "      bid = round(bs_call(S=price, K=custom_strike, T=fraction_of_year, r=forward_yield, sigma=bid_vol-spread), 2)\n",
        "      offer = round(bs_call(S=price, K=custom_strike, T=fraction_of_year, r=forward_yield, sigma=offer_vol+spread), 2)\n",
        "\n",
        "      st.write('Expiry  = {}. {} Spot = **{}** -----    **{}** strike calls         **${}/${}**,      vols = **{}%/{}%**'.format(expiry, asset, price,  custom_strike, bid, offer, (bid_vol-spread)*100, (offer_vol+spread)*100))\n",
        "      st.write('')\n",
        "      bid = round(bs_put(S=price, K=custom_strike, T=fraction_of_year, r=forward_yield, sigma=bid_vol-spread), 2)\n",
        "      offer = round(bs_put(S=price, K=custom_strike, T=fraction_of_year, r=forward_yield, sigma=offer_vol+spread), 2)\n",
        "\n",
        "      st.write('Expiry  = {}. {} Spot = **{}** -----    **{}** strike puts          **${}/${}**,      vols = **{}%/{}%**'.format(expiry, asset, price,  custom_strike, bid, offer, (bid_vol-spread)*100, (offer_vol+spread)*100))\n",
        "      st.write('')\n",
        "\n",
        "    else:\n",
        "      for c in call_strikes:\n",
        "        c = round(c, -1)\n",
        "        bid = round(bs_call(S=price, K=c, T=fraction_of_year, r=forward_yield, sigma=bid_vol-spread), 2)\n",
        "        offer = round(bs_call(S=price, K=c, T=fraction_of_year, r=forward_yield, sigma=offer_vol+spread), 2)\n",
        "\n",
        "        st.write('Expiry  = {}. {} Spot = **{}** -----    **{}** strike calls         **${}/${}**,      vols = **{}%/{}%**'.format(expiry, asset, price,  c, bid, offer, (bid_vol-spread)*100, (offer_vol+spread)*100))\n",
        "        st.write('')\n",
        "      for c in put_strikes:\n",
        "        c = round(c, -1)\n",
        "        bid = round(bs_put(S=price, K=c, T=fraction_of_year, r=forward_yield, sigma=bid_vol-spread), 2)\n",
        "        offer = round(bs_put(S=price, K=c, T=fraction_of_year, r=forward_yield, sigma=offer_vol+spread), 2)\n",
        "\n",
        "        st.write('Expiry  = {}. {} Spot = **{}** -----    **{}** strike puts          **${}/${}**,      vols = **{}%/{}%**'.format(expiry, asset, price,  c, bid, offer, (bid_vol-spread)*100, (offer_vol+spread)*100))\n",
        "        st.write('')\n",
        "\n"
      ]
    },
    {
      "cell_type": "code",
      "execution_count": null,
      "metadata": {
        "colab": {
          "base_uri": "https://localhost:8080/"
        },
        "id": "8-9hOaPnE98v",
        "outputId": "a9a3c199-e077-4848-9c18-3e7e8f2f7fdd"
      },
      "outputs": [
        {
          "output_type": "stream",
          "name": "stdout",
          "text": [
            "\u001b[K\u001b[?25hnpx: installed 22 in 2.99s\n",
            "your url is: https://selfish-lionfish-57.loca.lt\n",
            "\u001b[0m\n",
            "\u001b[34m\u001b[1m  You can now view your Streamlit app in your browser.\u001b[0m\n",
            "\u001b[0m\n",
            "\u001b[34m  Network URL: \u001b[0m\u001b[1mhttp://172.28.0.2:8501\u001b[0m\n",
            "\u001b[34m  External URL: \u001b[0m\u001b[1mhttp://34.72.47.169:8501\u001b[0m\n",
            "\u001b[0m\n",
            "Error getting spot price please enter manually\n",
            "Error getting spot price please enter manually\n",
            "2022-01-03 09:36:35.278 Traceback (most recent call last):\n",
            "  File \"/usr/local/lib/python3.7/dist-packages/streamlit/script_runner.py\", line 354, in _run_script\n",
            "    exec(code, module.__dict__)\n",
            "  File \"/content/option_pricer.py\", line 102, in <module>\n",
            "    bid = round(bs_call(S=price, K=custom_strike, T=fraction_of_year, r=forward_yield, sigma=bid_vol-spread), 2)\n",
            "  File \"/content/option_pricer.py\", line 29, in bs_call\n",
            "    return S*norm.cdf(d1(S,K,T,r,sigma))-K*exp(-r*T)*norm.cdf(d2(S,K,T,r,sigma))\n",
            "  File \"/content/option_pricer.py\", line 24, in d1\n",
            "    return(log(S/K)+(r+sigma**2/2.)*T)/(sigma*sqrt(T))\n",
            "ValueError: math domain error\n",
            "\n",
            "Error getting spot price please enter manually\n",
            "Error getting spot price please enter manually\n",
            "Error getting spot price please enter manually\n",
            "Error getting spot price please enter manually\n",
            "Error getting spot price please enter manually\n",
            "Error getting spot price please enter manually\n",
            "Error getting spot price please enter manually\n",
            "Error getting spot price please enter manually\n",
            "Error getting spot price please enter manually\n",
            "Error getting spot price please enter manually\n",
            "Error getting spot price please enter manually\n",
            "Error getting spot price please enter manually\n",
            "2022-01-03 11:08:13.780 Traceback (most recent call last):\n",
            "  File \"/usr/local/lib/python3.7/dist-packages/streamlit/script_runner.py\", line 354, in _run_script\n",
            "    exec(code, module.__dict__)\n",
            "  File \"/content/option_pricer.py\", line 102, in <module>\n",
            "    bid = round(bs_call(S=price, K=custom_strike, T=fraction_of_year, r=forward_yield, sigma=bid_vol-spread), 2)\n",
            "  File \"/content/option_pricer.py\", line 29, in bs_call\n",
            "    return S*norm.cdf(d1(S,K,T,r,sigma))-K*exp(-r*T)*norm.cdf(d2(S,K,T,r,sigma))\n",
            "  File \"/content/option_pricer.py\", line 24, in d1\n",
            "    return(log(S/K)+(r+sigma**2/2.)*T)/(sigma*sqrt(T))\n",
            "ValueError: math domain error\n",
            "\n",
            "Error getting spot price please enter manually\n",
            "Error getting spot price please enter manually\n"
          ]
        }
      ],
      "source": [
        "!streamlit run option_pricer.py & npx localtunnel --port 8501"
      ]
    }
  ],
  "metadata": {
    "colab": {
      "name": "Option_Pricer.ipynb",
      "provenance": []
    },
    "kernelspec": {
      "display_name": "Python 3",
      "name": "python3"
    },
    "language_info": {
      "name": "python"
    }
  },
  "nbformat": 4,
  "nbformat_minor": 0
}